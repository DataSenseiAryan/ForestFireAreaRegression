{
 "cells": [
  {
   "cell_type": "markdown",
   "metadata": {},
   "source": [
    "## Forest Fires Normlisation"
   ]
  },
  {
   "cell_type": "markdown",
   "metadata": {},
   "source": [
    "## Loading libraries"
   ]
  },
  {
   "cell_type": "code",
   "execution_count": 9,
   "metadata": {},
   "outputs": [],
   "source": [
    "import matplotlib.pyplot as plt\n",
    "import math\n",
    "import numpy as np\n",
    "import pandas as pd\n",
    "import random\n",
    "\n",
    "# importing sklearn libraries\n",
    "from sklearn import neural_network, linear_model, preprocessing, svm, tree\n",
    "from sklearn.ensemble import RandomForestRegressor, RandomForestClassifier\n",
    "from sklearn.metrics import accuracy_score, mean_squared_error, r2_score\n",
    "from sklearn.model_selection import train_test_split\n",
    "from sklearn.model_selection import cross_val_score\n",
    "from sklearn.model_selection import KFold\n",
    "from sklearn.naive_bayes import GaussianNB\n",
    "\n",
    "# importing keras libraries\n",
    "#from keras.models import Sequential\n",
    "#from keras.layers import Dense\n",
    "#from keras.wrappers.scikit_learn import KerasRegressor\n",
    "\n",
    "import warnings\n",
    "\n",
    "# supressing the warning on the usage of Linear Regression model\n",
    "warnings.filterwarnings(action=\"ignore\", module=\"scipy\", message=\"^internal gelsd\")"
   ]
  },
  {
   "cell_type": "markdown",
   "metadata": {},
   "source": [
    "## Working with the dataset"
   ]
  },
  {
   "cell_type": "markdown",
   "metadata": {},
   "source": [
    "### Loading the dataset"
   ]
  },
  {
   "cell_type": "markdown",
   "metadata": {},
   "source": [
    "The dataset can be downloaded from: https://www.kaggle.com/elikplim/forest-fires-data-set\n",
    "\n",
    "The attributes in the dataset include:\n",
    "1. X - x-axis spatial coordinate within the Montesinho park map: 1 to 9\n",
    "2. Y - y-axis spatial coordinate within the Montesinho park map: 2 to 9\n",
    "3. month - month of the year: \"jan\" to \"dec\"\n",
    "4. day - day of the week: \"mon\" to \"sun\"\n",
    "5. FFMC - FFMC index from the FWI system: 18.7 to 96.20\n",
    "6. DMC - DMC index from the FWI system: 1.1 to 291.3\n",
    "7. DC - DC index from the FWI system: 7.9 to 860.6\n",
    "8. ISI - ISI index from the FWI system: 0.0 to 56.10\n",
    "9. temp - temperature in Celsius degrees: 2.2 to 33.30\n",
    "10. RH - relative humidity in %: 15.0 to 100\n",
    "11. wind - wind speed in km/h: 0.40 to 9.40\n",
    "12. rain - outside rain in mm/m2 : 0.0 to 6.4\n",
    "13. area - the burned area of the forest (in ha): 0.00 to 1090.84"
   ]
  },
  {
   "cell_type": "code",
   "execution_count": 10,
   "metadata": {},
   "outputs": [],
   "source": [
    "forest_fires = pd.read_csv('/home/ryan/Learning-Forest-Fires/forest_fires.csv')\n"
   ]
  },
  {
   "cell_type": "markdown",
   "metadata": {},
   "source": [
    "### Converting the labels under month and day to integers"
   ]
  },
  {
   "cell_type": "code",
   "execution_count": 11,
   "metadata": {},
   "outputs": [],
   "source": [
    "forest_fires.month.replace(('jan','feb','mar','apr','may','jun','jul','aug','sep','oct','nov','dec'),(1,2,3,4,5,6,7,8,9,10,11,12), inplace=True)\n",
    "forest_fires.day.replace(('mon','tue','wed','thu','fri','sat','sun'),(1,2,3,4,5,6,7), inplace=True)"
   ]
  },
  {
   "cell_type": "code",
   "execution_count": 12,
   "metadata": {},
   "outputs": [],
   "source": [
    "x_values = list(forest_fires['X'])\n",
    "y_values = list(forest_fires['Y'])\n",
    "\n",
    "loc_values = []\n",
    "\n",
    "for index in range(0, len(x_values)):\n",
    "    temp_value = []\n",
    "\n",
    "    temp_value.append(x_values[index])\n",
    "    temp_value.append(y_values[index])\n",
    "    loc_values.append(temp_value)"
   ]
  },
  {
   "cell_type": "code",
   "execution_count": 13,
   "metadata": {},
   "outputs": [],
   "source": [
    "month_values = list(forest_fires['month'])\n",
    "day_values = list(forest_fires['day'])\n",
    "\n",
    "ffmc_values = list(forest_fires['FFMC'])\n",
    "dmc_values = list(forest_fires['DMC'])\n",
    "dc_values = list(forest_fires['DC'])\n",
    "isi_values = list(forest_fires['ISI'])\n",
    "\n",
    "temp_values = list(forest_fires['temp'])\n",
    "rh_values = list(forest_fires['RH'])\n",
    "wind_values = list(forest_fires['wind'])\n",
    "rain_values = list(forest_fires['rain'])\n",
    "\n",
    "area_values = list(forest_fires['area'])"
   ]
  },
  {
   "cell_type": "code",
   "execution_count": 14,
   "metadata": {},
   "outputs": [],
   "source": [
    "attribute_list = []\n",
    "\n",
    "for index in range(0, len(x_values)):\n",
    "    temp_list = []\n",
    "    \n",
    "    temp_list.append(x_values[index])\n",
    "    temp_list.append(y_values[index])\n",
    "    \n",
    "    temp_list.append(month_values[index])\n",
    "    temp_list.append(day_values[index])\n",
    "\n",
    "    temp_list.append(ffmc_values[index])\n",
    "    temp_list.append(dmc_values[index])\n",
    "    temp_list.append(dc_values[index])\n",
    "    temp_list.append(isi_values[index])\n",
    "\n",
    "    temp_list.append(temp_values[index])\n",
    "    temp_list.append(rh_values[index])\n",
    "    temp_list.append(wind_values[index])\n",
    "    temp_list.append(rain_values[index])\n",
    "    \n",
    "    attribute_list.append(temp_list)"
   ]
  },
  {
   "cell_type": "markdown",
   "metadata": {},
   "source": [
    "### Counting the instances of location points in dataset"
   ]
  },
  {
   "cell_type": "code",
   "execution_count": 15,
   "metadata": {},
   "outputs": [],
   "source": [
    "def count_points(x_points, y_points, scaling_factor):\n",
    "    count_array = []\n",
    "    \n",
    "    for index in range(0, len(x_points)):\n",
    "        temp_value = [x_points[index], y_points[index]]\n",
    "        count = 0\n",
    "        \n",
    "        for value in loc_values:\n",
    "            if(temp_value == value):\n",
    "                count = count + 1\n",
    "        count_array.append(count * scaling_factor )\n",
    "\n",
    "    return count_array"
   ]
  },
  {
   "cell_type": "markdown",
   "metadata": {},
   "source": [
    "### Histogram plotting function for dataset"
   ]
  },
  {
   "cell_type": "code",
   "execution_count": 16,
   "metadata": {},
   "outputs": [
    {
     "name": "stdout",
     "output_type": "stream",
     "text": [
      "The number of data records with 'burned area' > 0 are 270 and the total number of records are 517.\n",
      "The percentage value is 52.22437137330754.\n"
     ]
    }
   ],
   "source": [
    "total_count = 0\n",
    "positive_data_count = 0\n",
    "\n",
    "for value in area_values:\n",
    "    if(value > 0):\n",
    "        positive_data_count = positive_data_count + 1\n",
    "    total_count = total_count + 1\n",
    "\n",
    "print(\"The number of data records with 'burned area' > 0 are \" + str(positive_data_count) + \" and the total number of records are \" + str(total_count) + \".\")\n",
    "print(\"The percentage value is \" + str(positive_data_count/total_count * 100) + \".\")"
   ]
  },
  {
   "cell_type": "markdown",
   "metadata": {},
   "source": [
    "## Normalisation of all data"
   ]
  },
  {
   "cell_type": "code",
   "execution_count": 17,
   "metadata": {},
   "outputs": [],
   "source": [
    "n_x_values = preprocessing.normalize([x_values])[0]\n",
    "n_y_values = preprocessing.normalize([y_values])[0]\n",
    "\n",
    "n_month_values = preprocessing.normalize([month_values])[0]\n",
    "n_day_values = preprocessing.normalize([day_values])[0]\n",
    "\n",
    "n_ffmc_values = preprocessing.normalize([ffmc_values])[0]\n",
    "n_dmc_values = preprocessing.normalize([dmc_values])[0]\n",
    "n_dc_values = preprocessing.normalize([dc_values])[0]\n",
    "n_isi_values = preprocessing.normalize([isi_values])[0]\n",
    "\n",
    "n_temp_values = preprocessing.normalize([temp_values])[0]\n",
    "n_rh_values = preprocessing.normalize([rh_values])[0]\n",
    "n_wind_values = preprocessing.normalize([wind_values])[0]\n",
    "n_rain_values = preprocessing.normalize([rain_values])[0]\n",
    "\n",
    "n_area_values = preprocessing.normalize([area_values])[0]\n",
    "n_attribute_list = []\n",
    "\n",
    "for index in range(0, len(n_x_values)):\n",
    "    temp_list = []\n",
    "    \n",
    "    temp_list.append(n_x_values[index])\n",
    "    temp_list.append(n_y_values[index])\n",
    "    \n",
    "    temp_list.append(n_month_values[index])\n",
    "    temp_list.append(n_day_values[index])\n",
    "\n",
    "    temp_list.append(n_ffmc_values[index])\n",
    "    temp_list.append(n_dmc_values[index])\n",
    "    temp_list.append(n_dc_values[index])\n",
    "    temp_list.append(n_isi_values[index])\n",
    "\n",
    "    temp_list.append(n_temp_values[index])\n",
    "    temp_list.append(n_rh_values[index])\n",
    "    temp_list.append(n_wind_values[index])\n",
    "    temp_list.append(n_rain_values[index])\n",
    "    \n",
    "    n_attribute_list.append(temp_list)"
   ]
  },
  {
   "cell_type": "markdown",
   "metadata": {},
   "source": [
    "## Applying learning models on the normalised data"
   ]
  },
  {
   "cell_type": "markdown",
   "metadata": {},
   "source": [
    "### Setting the initial parameters"
   ]
  },
  {
   "cell_type": "code",
   "execution_count": 18,
   "metadata": {},
   "outputs": [],
   "source": [
    "mse_values = []\n",
    "variance_score = []"
   ]
  },
  {
   "cell_type": "markdown",
   "metadata": {},
   "source": [
    "### Spilliting the available data"
   ]
  },
  {
   "cell_type": "code",
   "execution_count": 28,
   "metadata": {},
   "outputs": [],
   "source": [
    "train_x, test_x, train_y, test_y = train_test_split(attribute_list, area_values, test_size=0.3, random_state = 9)\n"
   ]
  },
  {
   "cell_type": "code",
   "execution_count": 29,
   "metadata": {},
   "outputs": [],
   "source": [
    "def print_values(test, predicted):\n",
    "    print(\"The actual output and the predicted output are:\")\n",
    "    \n",
    "    for value in range(0, len(predicted_y)):\n",
    "        print('%.4f' % test_y[value], \" \", '%.4f' % predicted_y[value])"
   ]
  },
  {
   "cell_type": "code",
   "execution_count": 30,
   "metadata": {},
   "outputs": [],
   "source": [
    "mse_values = []\n",
    "variance_score = []"
   ]
  },
  {
   "cell_type": "markdown",
   "metadata": {},
   "source": [
    "### Linear regression model"
   ]
  },
  {
   "cell_type": "code",
   "execution_count": 31,
   "metadata": {},
   "outputs": [
    {
     "name": "stdout",
     "output_type": "stream",
     "text": [
      "Coefficients: \n",
      " [ 1.71747529  2.62534697  1.19534284  1.42643221 -0.2411676   0.08588672\n",
      " -0.01211609 -0.35961031  0.62442967 -0.44664769  1.74511285 -1.58498463]\n",
      "\n",
      "Mean squared error:  1913.2639647759795\n",
      "Variance score: -0.04\n"
     ]
    }
   ],
   "source": [
    "linear_regression = linear_model.LinearRegression()\n",
    "\n",
    "linear_regression.fit(train_x, train_y)\n",
    "predicted_y = linear_regression.predict(test_x)\n",
    "\n",
    "print('Coefficients: \\n', linear_regression.coef_)\n",
    "\n",
    "print(\"\\nMean squared error: \", mean_squared_error(test_y, predicted_y))\n",
    "print('Variance score: %.2f' % r2_score(test_y, predicted_y))\n",
    "\n",
    "mse_values.append(mean_squared_error(test_y, predicted_y))\n",
    "variance_score.append(r2_score(test_y, predicted_y))\n",
    "\n",
    "#print_values(test_y, predicted_y)"
   ]
  },
  {
   "cell_type": "markdown",
   "metadata": {},
   "source": [
    "### Bagging Regressor Model"
   ]
  },
  {
   "cell_type": "code",
   "execution_count": 32,
   "metadata": {},
   "outputs": [
    {
     "name": "stdout",
     "output_type": "stream",
     "text": [
      "\n",
      "Mean squared error:  2049.4190961558875\n",
      "Variance score: -0.12\n"
     ]
    }
   ],
   "source": [
    "from sklearn.ensemble import BaggingRegressor\n",
    "from sklearn.svm import SVR\n",
    "regr = BaggingRegressor(base_estimator=SVR(),n_estimators=10, random_state=0).fit(train_x,train_y )\n",
    "predicted_y = regr.predict(test_x)\n",
    "print(\"\\nMean squared error: \", mean_squared_error(test_y, predicted_y))\n",
    "print('Variance score: %.2f' % r2_score(test_y, predicted_y))\n",
    "mse_values.append(mean_squared_error(test_y, predicted_y))\n",
    "variance_score.append(r2_score(test_y, predicted_y))"
   ]
  },
  {
   "cell_type": "markdown",
   "metadata": {},
   "source": [
    "### ELASTICNET REGGRESSION MODEL"
   ]
  },
  {
   "cell_type": "code",
   "execution_count": 33,
   "metadata": {},
   "outputs": [
    {
     "name": "stdout",
     "output_type": "stream",
     "text": [
      "\n",
      " Coefficeints : [ 1.69106821  1.73731342  0.69532242  1.20042163 -0.22386208  0.08597898\n",
      " -0.00817259 -0.27236354  0.48488668 -0.46061712  1.29953134 -0.        ]\n",
      "\n",
      "Mean squared error:  1896.8391125619116\n",
      "Variance score: -0.04\n"
     ]
    }
   ],
   "source": [
    "from sklearn.linear_model import ElasticNet\n",
    "elasticnet = ElasticNet(random_state=0)\n",
    "elasticnet.fit(train_x,train_y)\n",
    "predicted_y = elasticnet.predict(test_x)\n",
    "print('\\n Coefficeints :', elasticnet.coef_)\n",
    "print(\"\\nMean squared error: \", mean_squared_error(test_y, predicted_y))\n",
    "print('Variance score: %.2f' % r2_score(test_y, predicted_y))\n",
    "mse_values.append(mean_squared_error(test_y, predicted_y))\n",
    "variance_score.append(r2_score(test_y, predicted_y))"
   ]
  },
  {
   "cell_type": "markdown",
   "metadata": {},
   "source": [
    "### ExtraTree Regression Model"
   ]
  },
  {
   "cell_type": "code",
   "execution_count": 34,
   "metadata": {},
   "outputs": [
    {
     "name": "stdout",
     "output_type": "stream",
     "text": [
      "\n",
      "Mean squared error:  9132.215044230767\n",
      "Variance score: -3.99\n"
     ]
    }
   ],
   "source": [
    "from sklearn.tree import ExtraTreeRegressor\n",
    "extra_tree = ExtraTreeRegressor(random_state=0)\n",
    "extra_tree.fit(train_x,train_y)\n",
    "predicted_y = extra_tree.predict(test_x)\n",
    "print(\"\\nMean squared error: \", mean_squared_error(test_y, predicted_y))\n",
    "print('Variance score: %.2f' % r2_score(test_y, predicted_y))\n",
    "mse_values.append(mean_squared_error(test_y, predicted_y))\n",
    "variance_score.append(r2_score(test_y, predicted_y))\n"
   ]
  },
  {
   "cell_type": "markdown",
   "metadata": {},
   "source": [
    "### KNN Regression Model"
   ]
  },
  {
   "cell_type": "code",
   "execution_count": 35,
   "metadata": {},
   "outputs": [
    {
     "name": "stdout",
     "output_type": "stream",
     "text": [
      "Mean squared error:  4499.09367852564\n",
      "Variance score: -1.46\n"
     ]
    }
   ],
   "source": [
    "from sklearn.neighbors import KNeighborsRegressor\n",
    "neigh = KNeighborsRegressor(n_neighbors=2)\n",
    "neigh.fit(train_x, train_y)\n",
    "predicted_y = neigh.predict(test_x)\n",
    "\n",
    "print(\"Mean squared error: \", mean_squared_error(test_y, predicted_y))\n",
    "print('Variance score: %.2f' % r2_score(test_y, predicted_y))\n",
    "\n",
    "mse_values.append(mean_squared_error(test_y, predicted_y))\n",
    "variance_score.append(r2_score(test_y, predicted_y))\n",
    "\n"
   ]
  },
  {
   "cell_type": "code",
   "execution_count": null,
   "metadata": {},
   "outputs": [],
   "source": []
  },
  {
   "cell_type": "markdown",
   "metadata": {},
   "source": [
    "### Decision tree model"
   ]
  },
  {
   "cell_type": "code",
   "execution_count": 36,
   "metadata": {},
   "outputs": [
    {
     "name": "stdout",
     "output_type": "stream",
     "text": [
      "Mean squared error:  5683.807524999999\n",
      "Variance score: -2.10\n"
     ]
    },
    {
     "name": "stderr",
     "output_type": "stream",
     "text": [
      "/usr/local/lib/python3.6/dist-packages/sklearn/tree/_classes.py:319: FutureWarning: The parameter 'presort' is deprecated and has no effect. It will be removed in v0.24. You can suppress this warning by not passing any value to the 'presort' parameter.\n",
      "  FutureWarning)\n"
     ]
    }
   ],
   "source": [
    "decision_tree = tree.DecisionTreeRegressor(presort = True)\n",
    "\n",
    "decision_tree.fit(train_x, train_y)\n",
    "predicted_y = decision_tree.predict(test_x)\n",
    "\n",
    "print(\"Mean squared error: \", mean_squared_error(test_y, predicted_y))\n",
    "print('Variance score: %.2f' % r2_score(test_y, predicted_y))\n",
    "\n",
    "mse_values.append(mean_squared_error(test_y, predicted_y))\n",
    "variance_score.append(r2_score(test_y, predicted_y))\n",
    "\n",
    "#print_values(test_y, predicted_y)"
   ]
  },
  {
   "cell_type": "markdown",
   "metadata": {},
   "source": [
    "### MLP model"
   ]
  },
  {
   "cell_type": "code",
   "execution_count": 37,
   "metadata": {},
   "outputs": [
    {
     "name": "stdout",
     "output_type": "stream",
     "text": [
      "Mean squared error:  1828.636751545159\n",
      "Variance score: 0.00\n"
     ]
    }
   ],
   "source": [
    "mlp = neural_network.MLPRegressor(hidden_layer_sizes = (150,50,50), activation = \"tanh\", solver = \"sgd\", learning_rate = \"adaptive\")\n",
    "\n",
    "mlp.fit(train_x, train_y)\n",
    "predicted_y = mlp.predict(test_x)\n",
    "\n",
    "print(\"Mean squared error: \", mean_squared_error(test_y, predicted_y))\n",
    "print('Variance score: %.2f' % r2_score(test_y, predicted_y))\n",
    "\n",
    "mse_values.append(mean_squared_error(test_y, predicted_y))\n",
    "variance_score.append(r2_score(test_y, predicted_y))\n",
    "\n",
    "#print_values(test_y, predicted_y)"
   ]
  },
  {
   "cell_type": "markdown",
   "metadata": {},
   "source": [
    "### SVM model"
   ]
  },
  {
   "cell_type": "code",
   "execution_count": 38,
   "metadata": {},
   "outputs": [
    {
     "name": "stdout",
     "output_type": "stream",
     "text": [
      "Mean squared error:  2049.8681225338964\n",
      "Variance score: -0.12\n"
     ]
    }
   ],
   "source": [
    "svm_model = svm.SVR()\n",
    "\n",
    "svm_model.fit(train_x, train_y)\n",
    "predicted_y = svm_model.predict(test_x)\n",
    "\n",
    "print(\"Mean squared error: \", mean_squared_error(test_y, predicted_y))\n",
    "print('Variance score: %.2f' % r2_score(test_y, predicted_y))\n",
    "\n",
    "mse_values.append(mean_squared_error(test_y, predicted_y))\n",
    "variance_score.append(r2_score(test_y, predicted_y))\n",
    "\n",
    "#print_values(test_y, predicted_y)"
   ]
  },
  {
   "cell_type": "markdown",
   "metadata": {},
   "source": [
    "### Random forest model"
   ]
  },
  {
   "cell_type": "code",
   "execution_count": 39,
   "metadata": {},
   "outputs": [
    {
     "name": "stdout",
     "output_type": "stream",
     "text": [
      "Mean squared error:  2057.960424470369\n",
      "Variance score: -0.12\n"
     ]
    }
   ],
   "source": [
    "random_forest = RandomForestRegressor()\n",
    "random_forest.fit(train_x, train_y)\n",
    "predicted_y = random_forest.predict(test_x)\n",
    "\n",
    "print(\"Mean squared error: \", mean_squared_error(test_y, predicted_y))\n",
    "print('Variance score: %.2f' % r2_score(test_y, predicted_y))\n",
    "\n",
    "mse_values.append(mean_squared_error(test_y, predicted_y))\n",
    "variance_score.append(r2_score(test_y, predicted_y))\n",
    "\n",
    "#print_values(test_y, predicted_y)"
   ]
  },
  {
   "cell_type": "markdown",
   "metadata": {},
   "source": [
    "### Bayesian ridge model"
   ]
  },
  {
   "cell_type": "code",
   "execution_count": 40,
   "metadata": {},
   "outputs": [
    {
     "name": "stdout",
     "output_type": "stream",
     "text": [
      "Mean squared error:  1841.3430300494888\n",
      "Variance score: -0.01\n"
     ]
    }
   ],
   "source": [
    "bayesian_ridge = linear_model.BayesianRidge()\n",
    "bayesian_ridge.fit(train_x, train_y)\n",
    "predicted_y = bayesian_ridge.predict(test_x)\n",
    "\n",
    "print(\"Mean squared error: \", mean_squared_error(test_y, predicted_y))\n",
    "print('Variance score: %.2f' % r2_score(test_y, predicted_y))\n",
    "\n",
    "mse_values.append(mean_squared_error(test_y, predicted_y))\n",
    "variance_score.append(r2_score(test_y, predicted_y))\n",
    "\n",
    "#print_values(test_y, predicted_y)"
   ]
  },
  {
   "cell_type": "markdown",
   "metadata": {},
   "source": [
    "### Lasso model"
   ]
  },
  {
   "cell_type": "code",
   "execution_count": 41,
   "metadata": {},
   "outputs": [
    {
     "name": "stdout",
     "output_type": "stream",
     "text": [
      "Mean squared error:  1904.4049878441558\n",
      "Variance score: -0.04\n"
     ]
    }
   ],
   "source": [
    "lasso_model = linear_model.Lasso()\n",
    "lasso_model.fit(train_x, train_y)\n",
    "predicted_y = lasso_model.predict(test_x)\n",
    "\n",
    "print(\"Mean squared error: \", mean_squared_error(test_y, predicted_y))\n",
    "print('Variance score: %.2f' % r2_score(test_y, predicted_y))\n",
    "\n",
    "mse_values.append(mean_squared_error(test_y, predicted_y))\n",
    "variance_score.append(r2_score(test_y, predicted_y))\n",
    "\n",
    "#print_values(test_y, predicted_y)"
   ]
  },
  {
   "cell_type": "markdown",
   "metadata": {},
   "source": [
    "### Function for generating the graph"
   ]
  },
  {
   "cell_type": "code",
   "execution_count": 42,
   "metadata": {},
   "outputs": [],
   "source": [
    "def generate_plot(title, ticks, dataset, color_number):\n",
    "    colors = [\"slateblue\", \"mediumseagreen\", \"tomato\"]\n",
    "    plt.figure(figsize=(8, 6))\n",
    "    \n",
    "    ax = plt.subplot()    \n",
    "    ax.spines[\"top\"].set_visible(False)   \n",
    "    ax.spines[\"bottom\"].set_visible(False)\n",
    "    ax.spines[\"right\"].set_visible(False)\n",
    "    ax.spines[\"left\"].set_visible(False)\n",
    "    \n",
    "    ax.get_xaxis().tick_bottom()\n",
    "    ax.get_yaxis().tick_left() \n",
    "    \n",
    "    plt.xticks(np.arange(len(ticks)), ticks, fontsize=10, rotation=30)\n",
    "    plt.title(title, fontsize = 22)\n",
    "    plt.bar(ticks, dataset, linewidth=0.5, color=colors[color_number])"
   ]
  },
  {
   "cell_type": "markdown",
   "metadata": {},
   "source": [
    "### Mean squared error graph"
   ]
  },
  {
   "cell_type": "code",
   "execution_count": 43,
   "metadata": {},
   "outputs": [
    {
     "data": {
      "image/png": "[encoded data removed]",
      "text/plain": [
       "<Figure size 576x432 with 1 Axes>"
      ]
     },
     "metadata": {
      "needs_background": "light"
     },
     "output_type": "display_data"
    }
   ],
   "source": [
    "ticks = [\"Linear Regression\",'Bagging Regression','ElasticNet Regression','ExtraTrees Regression','KNN Regression', \"Decision Tree\", \"MLP\", \"SVM\", \"Random Forest\", \"Bayesion Ridge\", \"Lasso\"]\n",
    "generate_plot(\"Plot of MSE values\", ticks, mse_values, 0)"
   ]
  },
  {
   "cell_type": "markdown",
   "metadata": {},
   "source": [
    "### Variance score graph"
   ]
  },
  {
   "cell_type": "code",
   "execution_count": 44,
   "metadata": {},
   "outputs": [
    {
     "data": {
      "image/png": "[encoded data removed]",
      "text/plain": [
       "<Figure size 576x432 with 1 Axes>"
      ]
     },
     "metadata": {
      "needs_background": "light"
     },
     "output_type": "display_data"
    }
   ],
   "source": [
    "generate_plot(\"Plot of Variance scores\", ticks, variance_score, 1)"
   ]
  },
  {
   "cell_type": "code",
   "execution_count": null,
   "metadata": {},
   "outputs": [],
   "source": []
  }
 ],
 "metadata": {
  "kernelspec": {
   "display_name": "Python 3",
   "language": "python",
   "name": "python3"
  },
  "language_info": {
   "codemirror_mode": {
    "name": "ipython",
    "version": 3
   },
   "file_extension": ".py",
   "mimetype": "text/x-python",
   "name": "python",
   "nbconvert_exporter": "python",
   "pygments_lexer": "ipython3",
   "version": "3.6.9"
  }
 },
 "nbformat": 4,
 "nbformat_minor": 2
}
